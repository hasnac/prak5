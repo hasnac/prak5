{
 "cells": [
  {
   "cell_type": "code",
   "execution_count": 41,
   "id": "c3007c22-2f20-4011-8a9e-6951e431ffd2",
   "metadata": {},
   "outputs": [
    {
     "name": "stdin",
     "output_type": "stream",
     "text": [
      "Input Age:  10\n"
     ]
    },
    {
     "name": "stdout",
     "output_type": "stream",
     "text": [
      "Price $14.00\n",
      "total payment =  14.0\n"
     ]
    },
    {
     "name": "stdin",
     "output_type": "stream",
     "text": [
      "Input Age:  2\n"
     ]
    },
    {
     "name": "stdout",
     "output_type": "stream",
     "text": [
      "FREE\n",
      "total payment =  14.0\n"
     ]
    },
    {
     "name": "stdin",
     "output_type": "stream",
     "text": [
      "Input Age:  32\n"
     ]
    },
    {
     "name": "stdout",
     "output_type": "stream",
     "text": [
      "Price $23.00\n",
      "total payment =  37.0\n"
     ]
    },
    {
     "name": "stdin",
     "output_type": "stream",
     "text": [
      "Input Age:  100\n"
     ]
    },
    {
     "name": "stdout",
     "output_type": "stream",
     "text": [
      "Price $18.00\n",
      "total payment =  55.0\n"
     ]
    },
    {
     "name": "stdin",
     "output_type": "stream",
     "text": [
      "Input Age:  \n",
      "Payment =  100\n"
     ]
    },
    {
     "name": "stdout",
     "output_type": "stream",
     "text": [
      "\n",
      "_____Pembayaran____ \n",
      "Total =  55.0 \n",
      "Uang =  100.0 \n",
      "Change =  45.0\n"
     ]
    }
   ],
   "source": [
    "n = 0\n",
    "money = 0\n",
    "people = 0\n",
    "\n",
    "while (n != ''):\n",
    "    n = str(input(\"Input Age: \"))\n",
    "    people += 1\n",
    "    if (n == str('')):\n",
    "        break\n",
    "    else:\n",
    "        \n",
    "        if (int(n) <= 2):\n",
    "            print('FREE')\n",
    "            money += 0\n",
    "            print(\"total payment = \", money)\n",
    "        elif (3 <= int(n) <= 12):\n",
    "            print(\"Price $14.00\")\n",
    "            money += 14.00\n",
    "            print(\"total payment = \", money)\n",
    "        elif (150 >= int(n) >= 65):\n",
    "            print('Price $18.00')\n",
    "            money += 18.00\n",
    "            print(\"total payment = \", money)\n",
    "        elif (13 <= int(n) <= 64):\n",
    "            print('Price $23.00')\n",
    "            money += 23.00\n",
    "            print(\"total payment = \", money)\n",
    "        else:\n",
    "            people -= 1\n",
    "            print('INVALID')\n",
    "            \n",
    "if(people == 1):\n",
    "    print(\" \")\n",
    "else:\n",
    "    pay = float(input(\"Payment = \"))\n",
    "    chance = pay - money\n",
    "    print(\"\\n_____Pembayaran____\" ,'\\nTotal = ', money, \"\\nUang = \", pay, \"\\nChange = \", chance)"
   ]
  },
  {
   "cell_type": "code",
   "execution_count": null,
   "id": "cccde85a-b453-4a1d-9c02-2e7e0e24a098",
   "metadata": {},
   "outputs": [],
   "source": []
  }
 ],
 "metadata": {
  "kernelspec": {
   "display_name": "Python 3 (ipykernel)",
   "language": "python",
   "name": "python3"
  },
  "language_info": {
   "codemirror_mode": {
    "name": "ipython",
    "version": 3
   },
   "file_extension": ".py",
   "mimetype": "text/x-python",
   "name": "python",
   "nbconvert_exporter": "python",
   "pygments_lexer": "ipython3",
   "version": "3.12.4"
  }
 },
 "nbformat": 4,
 "nbformat_minor": 5
}
